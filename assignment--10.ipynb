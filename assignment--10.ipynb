{
 "cells": [
  {
   "cell_type": "code",
   "execution_count": 1,
   "id": "18dc122e-4661-409c-ac52-527b2c93033e",
   "metadata": {},
   "outputs": [
    {
     "name": "stdout",
     "output_type": "stream",
     "text": [
      "Rows with Transaction_Amount greater than 2000:\n",
      "          Date       Account_Type    Branch Transaction_Type  \\\n",
      "2   2023-01-10            Current    Uptown     Loan Payment   \n",
      "4   2023-01-14  Recurring Deposit  Suburban     Loan Payment   \n",
      "5   2023-01-06            Current  Suburban   Service Charge   \n",
      "7   2023-01-09            Current   Central     Loan Payment   \n",
      "8   2023-01-20  Recurring Deposit  Downtown   Service Charge   \n",
      "13  2023-01-05  Recurring Deposit   Central     Loan Payment   \n",
      "14  2023-01-01      Fixed Deposit  Downtown       Withdrawal   \n",
      "15  2023-01-03            Savings  Suburban   Service Charge   \n",
      "16  2023-01-02      Fixed Deposit   Central          Deposit   \n",
      "17  2023-01-07            Current   Central     Loan Payment   \n",
      "19  2023-01-17            Savings   Central          Deposit   \n",
      "\n",
      "    Transaction_Amount  Account_Balance  \n",
      "2              3363.85         12428.67  \n",
      "4              2788.57          4779.04  \n",
      "5              4584.05          7635.47  \n",
      "7              2346.72         10708.85  \n",
      "8              3899.98         12646.56  \n",
      "13             4683.64          6762.43  \n",
      "14             4136.54          8175.08  \n",
      "15             3350.32         12836.51  \n",
      "16             4421.57          8330.40  \n",
      "17             4116.52          9785.64  \n",
      "19             4516.52          8789.19  \n",
      "\n",
      "Rows with Transaction_Type as 'Loan Payment' and Account_Balance greater than 5000:\n",
      "          Date       Account_Type   Branch Transaction_Type  \\\n",
      "0   2023-01-19      Fixed Deposit  Central     Loan Payment   \n",
      "2   2023-01-10            Current   Uptown     Loan Payment   \n",
      "3   2023-01-18            Savings   Uptown     Loan Payment   \n",
      "7   2023-01-09            Current  Central     Loan Payment   \n",
      "13  2023-01-05  Recurring Deposit  Central     Loan Payment   \n",
      "17  2023-01-07            Current  Central     Loan Payment   \n",
      "\n",
      "    Transaction_Amount  Account_Balance  \n",
      "0               985.51          6839.59  \n",
      "2              3363.85         12428.67  \n",
      "3              1914.60          5776.63  \n",
      "7              2346.72         10708.85  \n",
      "13             4683.64          6762.43  \n",
      "17             4116.52          9785.64  \n",
      "\n",
      "Transactions made in the 'Uptown' branch:\n",
      "          Date   Account_Type  Branch Transaction_Type  Transaction_Amount  \\\n",
      "1   2023-01-16        Current  Uptown       Withdrawal              641.43   \n",
      "2   2023-01-10        Current  Uptown     Loan Payment             3363.85   \n",
      "3   2023-01-18        Savings  Uptown     Loan Payment             1914.60   \n",
      "12  2023-01-15  Fixed Deposit  Uptown   Service Charge             1225.50   \n",
      "\n",
      "    Account_Balance  \n",
      "1           8908.39  \n",
      "2          12428.67  \n",
      "3           5776.63  \n",
      "12          4224.47  \n"
     ]
    }
   ],
   "source": [
    "import pandas as pd\n",
    "\n",
    "# Load the dataset\n",
    "df = pd.read_csv('C:/Users/saite/Downloads/Day_10_banking_data.csv')\n",
    "\n",
    "# 1. Filter out all rows where the Transaction_Amount is greater than 2000\n",
    "filtered_data_1 = df[df['Transaction_Amount'] > 2000]\n",
    "print(\"Rows with Transaction_Amount greater than 2000:\")\n",
    "print(filtered_data_1)\n",
    "\n",
    "# 2. Find all rows where the Transaction_Type is \"Loan Payment\" and the Account_Balance is greater than 5000\n",
    "filtered_data_2 = df[(df['Transaction_Type'] == 'Loan Payment') & (df['Account_Balance'] > 5000)]\n",
    "print(\"\\nRows with Transaction_Type as 'Loan Payment' and Account_Balance greater than 5000:\")\n",
    "print(filtered_data_2)\n",
    "\n",
    "# 3. Extract transactions made in the \"Uptown\" branch\n",
    "filtered_data_3 = df[df['Branch'] == 'Uptown']\n",
    "print(\"\\nTransactions made in the 'Uptown' branch:\")\n",
    "print(filtered_data_3)\n"
   ]
  },
  {
   "cell_type": "code",
   "execution_count": 3,
   "id": "408f583e-c5c7-47b0-9681-131ff784f9a8",
   "metadata": {},
   "outputs": [
    {
     "name": "stdout",
     "output_type": "stream",
     "text": [
      "\n",
      "Data with Transaction_Fee column added:\n",
      "   Transaction_Amount  Transaction_Fee\n",
      "0              985.51          19.7102\n",
      "1              641.43          12.8286\n",
      "2             3363.85          67.2770\n",
      "3             1914.60          38.2920\n",
      "4             2788.57          55.7714\n",
      "\n",
      "Data with Balance_Status column added:\n",
      "   Account_Balance Balance_Status\n",
      "0          6839.59   High Balance\n",
      "1          8908.39   High Balance\n",
      "2         12428.67   High Balance\n",
      "3          5776.63   High Balance\n",
      "4          4779.04    Low Balance\n"
     ]
    }
   ],
   "source": [
    "# 1. Add a new column called Transaction_Fee, calculated as 2% of Transaction_Amount\n",
    "df['Transaction_Fee'] = df['Transaction_Amount'] * 0.02\n",
    "print(\"\\nData with Transaction_Fee column added:\")\n",
    "print(df[['Transaction_Amount', 'Transaction_Fee']].head())\n",
    "\n",
    "# 2. Create a new column Balance_Status:\n",
    "# If Account_Balance is greater than 5000, label it as \"High Balance\". Otherwise, label it as \"Low Balance\".\n",
    "df['Balance_Status'] = df['Account_Balance'].apply(lambda x: 'High Balance' if x > 5000 else 'Low Balance')\n",
    "\n",
    "print(\"\\nData with Balance_Status column added:\")\n",
    "print(df[['Account_Balance', 'Balance_Status']].head())\n"
   ]
  },
  {
   "cell_type": "code",
   "execution_count": null,
   "id": "a879ec96-f94a-4678-8b53-e7312cc7f143",
   "metadata": {},
   "outputs": [],
   "source": []
  }
 ],
 "metadata": {
  "kernelspec": {
   "display_name": "Python 3 (ipykernel)",
   "language": "python",
   "name": "python3"
  },
  "language_info": {
   "codemirror_mode": {
    "name": "ipython",
    "version": 3
   },
   "file_extension": ".py",
   "mimetype": "text/x-python",
   "name": "python",
   "nbconvert_exporter": "python",
   "pygments_lexer": "ipython3",
   "version": "3.12.7"
  }
 },
 "nbformat": 4,
 "nbformat_minor": 5
}
