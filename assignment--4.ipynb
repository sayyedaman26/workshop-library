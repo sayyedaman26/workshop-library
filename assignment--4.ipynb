{
 "cells": [
  {
   "cell_type": "code",
   "execution_count": 1,
   "id": "8e51756d-54b8-4f9e-a41b-97b43d5b897a",
   "metadata": {},
   "outputs": [
    {
     "name": "stdin",
     "output_type": "stream",
     "text": [
      "Enter a positive integer:  5\n"
     ]
    },
    {
     "name": "stdout",
     "output_type": "stream",
     "text": [
      "The sum of all even numbers between 1 and 5 is: 6\n"
     ]
    }
   ],
   "source": [
    "# Take input from the user\n",
    "n = int(input(\"Enter a positive integer: \"))\n",
    "\n",
    "# Initialize a variable to store the sum\n",
    "sum_of_evens = 0\n",
    "\n",
    "# Calculate the sum of even numbers between 1 and n\n",
    "for i in range(2, n + 1, 2):  # Start from 2 and increment by 2 (even numbers only)\n",
    "    sum_of_evens += i\n",
    "\n",
    "# Print the result\n",
    "print(f\"The sum of all even numbers between 1 and {n} is: {sum_of_evens}\")\n"
   ]
  },
  {
   "cell_type": "code",
   "execution_count": null,
   "id": "ac31fd2c-f490-4f23-b3ee-d4fbe36144e7",
   "metadata": {},
   "outputs": [],
   "source": []
  }
 ],
 "metadata": {
  "kernelspec": {
   "display_name": "Python 3 (ipykernel)",
   "language": "python",
   "name": "python3"
  },
  "language_info": {
   "codemirror_mode": {
    "name": "ipython",
    "version": 3
   },
   "file_extension": ".py",
   "mimetype": "text/x-python",
   "name": "python",
   "nbconvert_exporter": "python",
   "pygments_lexer": "ipython3",
   "version": "3.12.7"
  }
 },
 "nbformat": 4,
 "nbformat_minor": 5
}
