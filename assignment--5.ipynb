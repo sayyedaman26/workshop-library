{
 "cells": [
  {
   "cell_type": "code",
   "execution_count": 1,
   "id": "44a74351-4f1b-4d43-8be6-8443ba2bd598",
   "metadata": {},
   "outputs": [
    {
     "name": "stdin",
     "output_type": "stream",
     "text": [
      "Enter a positive integer n:  5\n"
     ]
    },
    {
     "name": "stdout",
     "output_type": "stream",
     "text": [
      "Numbers from 1 to n:\n",
      "1\n",
      "2\n",
      "3\n",
      "4\n",
      "5\n",
      "The sum of numbers from 1 to 5 is: 15\n"
     ]
    }
   ],
   "source": [
    "# Part 1: Print numbers from 1 to n using a for loop\n",
    "n = int(input(\"Enter a positive integer n: \"))\n",
    "print(\"Numbers from 1 to n:\")\n",
    "for i in range(1, n + 1):\n",
    "    print(i)\n",
    "\n",
    "# Part 2: Calculate the sum of numbers from 1 to n using a while loop\n",
    "sum_of_numbers = 0\n",
    "current = 1\n",
    "while current <= n:\n",
    "    sum_of_numbers += current\n",
    "    current += 1\n",
    "\n",
    "print(f\"The sum of numbers from 1 to {n} is: {sum_of_numbers}\")\n"
   ]
  },
  {
   "cell_type": "code",
   "execution_count": 3,
   "id": "9a413709-9424-40cd-a66f-1a293f06af81",
   "metadata": {},
   "outputs": [
    {
     "name": "stdin",
     "output_type": "stream",
     "text": [
      "Enter a positive integer:  7\n"
     ]
    },
    {
     "name": "stdout",
     "output_type": "stream",
     "text": [
      "The square of 7 is: 49\n"
     ]
    }
   ],
   "source": [
    "# Define a function to calculate the square of a number\n",
    "def calculate_square(n):\n",
    "    return n ** 2\n",
    "\n",
    "# Main program\n",
    "number = int(input(\"Enter a positive integer: \"))\n",
    "square = calculate_square(number)\n",
    "print(f\"The square of {number} is: {square}\")\n"
   ]
  },
  {
   "cell_type": "code",
   "execution_count": null,
   "id": "68e98beb-7515-4fcf-894b-ed0785611500",
   "metadata": {},
   "outputs": [],
   "source": []
  }
 ],
 "metadata": {
  "kernelspec": {
   "display_name": "Python 3 (ipykernel)",
   "language": "python",
   "name": "python3"
  },
  "language_info": {
   "codemirror_mode": {
    "name": "ipython",
    "version": 3
   },
   "file_extension": ".py",
   "mimetype": "text/x-python",
   "name": "python",
   "nbconvert_exporter": "python",
   "pygments_lexer": "ipython3",
   "version": "3.12.7"
  }
 },
 "nbformat": 4,
 "nbformat_minor": 5
}
