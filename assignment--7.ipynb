{
 "cells": [
  {
   "cell_type": "code",
   "execution_count": 15,
   "id": "3a66ef28-85d7-47df-979b-e9c742ac9e43",
   "metadata": {},
   "outputs": [
    {
     "name": "stdout",
     "output_type": "stream",
     "text": [
      "         Date Product Region    Sales  Profit  Quantity\n",
      "0  2023-01-02  Tablet   East  1061.81  236.12         7\n",
      "1  2023-01-06  Laptop  North  1926.07  246.34         8\n",
      "2  2023-01-03  Tablet   East  1597.99  253.17         3\n",
      "3  2023-01-20  Tablet  North  1397.99  242.23         1\n",
      "4  2023-01-04  Laptop   West   734.03  140.36         4\n",
      "First 5 rows of the dataset:\n",
      "         Date Product Region    Sales  Profit  Quantity\n",
      "0  2023-01-02  Tablet   East  1061.81  236.12         7\n",
      "1  2023-01-06  Laptop  North  1926.07  246.34         8\n",
      "2  2023-01-03  Tablet   East  1597.99  253.17         3\n",
      "3  2023-01-20  Tablet  North  1397.99  242.23         1\n",
      "4  2023-01-04  Laptop   West   734.03  140.36         4\n",
      "\n",
      "Basic statistics for numerical columns:\n",
      "             Sales      Profit   Quantity\n",
      "count    20.000000   20.000000  20.000000\n",
      "mean   1186.553000  211.533000   5.050000\n",
      "std     461.528444   66.916251   2.543826\n",
      "min     530.880000   82.160000   1.000000\n",
      "25%     774.517500  166.515000   2.750000\n",
      "50%    1104.865000  214.670000   5.000000\n",
      "75%    1571.080000  248.047500   7.250000\n",
      "max    1954.860000  364.970000   9.000000\n",
      "\n",
      "Total sales by region:\n",
      "Region\n",
      "East      5818.93\n",
      "North    10449.68\n",
      "South      936.84\n",
      "West      6525.61\n",
      "Name: Sales, dtype: float64\n",
      "\n",
      "Most sold product: Tablet (38 units)\n",
      "\n",
      "Average profit margin for each product:\n",
      "Product\n",
      "Keyboard      20.080696\n",
      "Laptop        17.112734\n",
      "Monitor       15.134989\n",
      "Smartphone    23.703647\n",
      "Tablet        19.955758\n",
      "Name: Profit Margin (%), dtype: float64\n"
     ]
    }
   ],
   "source": [
    "import pandas as pd\n",
    "\n",
    "import pandas as pd\n",
    "\n",
    "# Load the dataset with a corrected file path\n",
    "sales_data = pd.read_csv(r'C:\\Users\\saite\\Downloads\\Day_7_sales_data.csv')\n",
    "\n",
    "# Display the first 5 rows\n",
    "print(sales_data.head())\n",
    "\n",
    "# Display the first 5 rows\n",
    "print(\"First 5 rows of the dataset:\")\n",
    "print(sales_data.head())\n",
    "\n",
    "# Display basic statistics\n",
    "print(\"\\nBasic statistics for numerical columns:\")\n",
    "print(sales_data.describe())\n",
    "\n",
    "# Total sales for each region\n",
    "total_sales_by_region = sales_data.groupby('Region')['Sales'].sum()\n",
    "print(\"\\nTotal sales by region:\")\n",
    "print(total_sales_by_region)\n",
    "\n",
    "# Most sold product\n",
    "most_sold_product = sales_data.groupby('Product')['Quantity'].sum().idxmax()\n",
    "most_sold_quantity = sales_data.groupby('Product')['Quantity'].sum().max()\n",
    "print(f\"\\nMost sold product: {most_sold_product} ({most_sold_quantity} units)\")\n",
    "\n",
    "# Average profit margin for each product\n",
    "sales_data['Profit Margin (%)'] = (sales_data['Profit'] / sales_data['Sales']) * 100\n",
    "average_profit_margin_by_product = sales_data.groupby('Product')['Profit Margin (%)'].mean()\n",
    "print(\"\\nAverage profit margin for each product:\")\n",
    "print(average_profit_margin_by_product)\n"
   ]
  },
  {
   "cell_type": "code",
   "execution_count": null,
   "id": "a33f946c-2e2a-4834-9f07-d09654af3d4d",
   "metadata": {},
   "outputs": [],
   "source": []
  }
 ],
 "metadata": {
  "kernelspec": {
   "display_name": "Python 3 (ipykernel)",
   "language": "python",
   "name": "python3"
  },
  "language_info": {
   "codemirror_mode": {
    "name": "ipython",
    "version": 3
   },
   "file_extension": ".py",
   "mimetype": "text/x-python",
   "name": "python",
   "nbconvert_exporter": "python",
   "pygments_lexer": "ipython3",
   "version": "3.12.7"
  }
 },
 "nbformat": 4,
 "nbformat_minor": 5
}
