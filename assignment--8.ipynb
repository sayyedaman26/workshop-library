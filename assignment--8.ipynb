{
 "cells": [
  {
   "cell_type": "code",
   "execution_count": 5,
   "id": "95a63d3e-8de2-47d3-9d72-6a80501adaed",
   "metadata": {},
   "outputs": [
    {
     "name": "stdout",
     "output_type": "stream",
     "text": [
      "Rows with Sales > 1000:\n",
      "   Sales Region  Quantity  Profit\n",
      "1   1200   East        20     250\n",
      "3   1500   East        25     300\n",
      "\n",
      "Sales Records for East Region:\n",
      "   Sales Region  Quantity  Profit\n",
      "1   1200   East        20     250\n",
      "3   1500   East        25     300\n",
      "\n",
      "DataFrame with new columns:\n",
      "   Sales Region  Quantity  Profit  Profit_Per_Unit High_Sales\n",
      "0    500   West        10     100             10.0         No\n",
      "1   1200   East        20     250             12.5        Yes\n",
      "2    800  South        15     150             10.0         No\n",
      "3   1500   East        25     300             12.0        Yes\n",
      "4    900  North        12     180             15.0         No\n"
     ]
    }
   ],
   "source": [
    "import pandas as pd\n",
    "sales_data = pd.read_csv(r'C:\\Users\\saite\\Downloads\\Day_8_sales_data.csv')\n",
    "# Sample data (replace with your actual data)\n",
    "data = {'Sales': [500, 1200, 800, 1500, 900], \n",
    "        'Region': ['West', 'East', 'South', 'East', 'North'], \n",
    "        'Quantity': [10, 20, 15, 25, 12], \n",
    "        'Profit': [100, 250, 150, 300, 180]}\n",
    "df = pd.DataFrame(data)\n",
    "\n",
    "# Data Filtering\n",
    "# 1. Extract all rows where sales are greater than 1000\n",
    "high_sales_df = df[df['Sales'] > 1000]\n",
    "print(\"Rows with Sales > 1000:\")\n",
    "print(high_sales_df)\n",
    "\n",
    "# 2. Find all sales records for a specific region (e.g., \"East\")\n",
    "east_region_df = df[df['Region'] == 'East']\n",
    "print(\"\\nSales Records for East Region:\")\n",
    "print(east_region_df)\n",
    "\n",
    "# Data Processing\n",
    "# 1. Add a new column, Profit_Per_Unit, calculated as Profit / Quantity\n",
    "df['Profit_Per_Unit'] = df['Profit'] / df['Quantity']\n",
    "\n",
    "# 2. Create another column, High_Sales, which labels rows as Yes if Sales > 1000, else No\n",
    "df['High_Sales'] = df['Sales'].apply(lambda x: 'Yes' if x > 1000 else 'No')\n",
    "\n",
    "print(\"\\nDataFrame with new columns:\")\n",
    "print(df)"
   ]
  },
  {
   "cell_type": "code",
   "execution_count": null,
   "id": "f640155b-54c7-467f-bc19-d12fe5219646",
   "metadata": {},
   "outputs": [],
   "source": []
  }
 ],
 "metadata": {
  "kernelspec": {
   "display_name": "Python 3 (ipykernel)",
   "language": "python",
   "name": "python3"
  },
  "language_info": {
   "codemirror_mode": {
    "name": "ipython",
    "version": 3
   },
   "file_extension": ".py",
   "mimetype": "text/x-python",
   "name": "python",
   "nbconvert_exporter": "python",
   "pygments_lexer": "ipython3",
   "version": "3.12.7"
  }
 },
 "nbformat": 4,
 "nbformat_minor": 5
}
