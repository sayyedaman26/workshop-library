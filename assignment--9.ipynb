{
 "cells": [
  {
   "cell_type": "code",
   "execution_count": 7,
   "id": "49a105b8-206a-4db5-b8ca-09d7a79eb5c3",
   "metadata": {},
   "outputs": [
    {
     "name": "stdout",
     "output_type": "stream",
     "text": [
      "First 5 rows of the dataset:\n",
      "         Date       Account_Type    Branch Transaction_Type  \\\n",
      "0  2023-01-19      Fixed Deposit   Central     Loan Payment   \n",
      "1  2023-01-16            Current    Uptown       Withdrawal   \n",
      "2  2023-01-10            Current    Uptown     Loan Payment   \n",
      "3  2023-01-18            Savings    Uptown     Loan Payment   \n",
      "4  2023-01-14  Recurring Deposit  Suburban     Loan Payment   \n",
      "\n",
      "   Transaction_Amount  Account_Balance  \n",
      "0              985.51          6839.59  \n",
      "1              641.43          8908.39  \n",
      "2             3363.85         12428.67  \n",
      "3             1914.60          5776.63  \n",
      "4             2788.57          4779.04  \n",
      "\n",
      "Basic statistics of numerical columns:\n",
      "       Transaction_Amount  Account_Balance\n",
      "count           20.000000        20.000000\n",
      "mean          2705.829500      7967.766500\n",
      "std           1429.829787      2770.248821\n",
      "min            641.430000      2592.160000\n",
      "25%           1482.085000      6460.127500\n",
      "50%           2567.645000      7905.275000\n",
      "75%           4121.525000      9127.702500\n",
      "max           4683.640000     12836.510000\n",
      "\n",
      "Missing values in the dataset:\n",
      "Date                  0\n",
      "Account_Type          0\n",
      "Branch                0\n",
      "Transaction_Type      0\n",
      "Transaction_Amount    0\n",
      "Account_Balance       0\n",
      "dtype: int64\n"
     ]
    }
   ],
   "source": [
    "import pandas as pd\n",
    "\n",
    "# 1. Load the banking_data.csv file using Pandas\n",
    "df = pd.read_csv('C:/Users/saite/Downloads/Day_9_banking_data.csv')\n",
    "\n",
    "\n",
    "\n",
    "# 2. Display the first 5 rows of the dataset\n",
    "print(\"First 5 rows of the dataset:\")\n",
    "print(df.head())\n",
    "\n",
    "# 3. Use .describe() to generate basic statistics of the numerical columns\n",
    "print(\"\\nBasic statistics of numerical columns:\")\n",
    "print(df.describe())\n",
    "\n",
    "# 4. Check for missing values in the dataset\n",
    "print(\"\\nMissing values in the dataset:\")\n",
    "print(df.isnull().sum())\n"
   ]
  },
  {
   "cell_type": "code",
   "execution_count": 9,
   "id": "f83f2e98-50e8-4dda-9dbd-927ea2f4bc31",
   "metadata": {},
   "outputs": [
    {
     "name": "stdout",
     "output_type": "stream",
     "text": [
      "Total sum of Transaction_Amount for each Account_Type:\n",
      "Account_Type\n",
      "Current              15052.57\n",
      "Fixed Deposit        14102.59\n",
      "Recurring Deposit    15179.99\n",
      "Savings               9781.44\n",
      "Name: Transaction_Amount, dtype: float64\n",
      "\n",
      "Average Account_Balance for each Account_Type:\n",
      "Account_Type\n",
      "Current              9893.404000\n",
      "Fixed Deposit        6120.380000\n",
      "Recurring Deposit    7627.283333\n",
      "Savings              9134.110000\n",
      "Name: Account_Balance, dtype: float64\n",
      "\n",
      "Total number of transactions per Branch:\n",
      "Branch\n",
      "Central     8\n",
      "Downtown    3\n",
      "Suburban    5\n",
      "Uptown      4\n",
      "Name: Transaction_Amount, dtype: int64\n",
      "\n",
      "Average Transaction_Amount per Branch:\n",
      "Branch\n",
      "Central     2942.338750\n",
      "Downtown    3188.703333\n",
      "Suburban    2773.278000\n",
      "Uptown      1786.345000\n",
      "Name: Transaction_Amount, dtype: float64\n"
     ]
    }
   ],
   "source": [
    "import pandas as pd\n",
    "\n",
    "# Load the dataset\n",
    "df = pd.read_csv('C:/Users/saite/Downloads/Day_9_banking_data.csv')\n",
    "\n",
    "# Group the data by Account_Type and calculate:\n",
    "# 1. The total sum of Transaction_Amount\n",
    "account_type_sum = df.groupby('Account_Type')['Transaction_Amount'].sum()\n",
    "print(\"Total sum of Transaction_Amount for each Account_Type:\")\n",
    "print(account_type_sum)\n",
    "\n",
    "# 2. The average Account_Balance for each Account_Type\n",
    "account_type_avg_balance = df.groupby('Account_Type')['Account_Balance'].mean()\n",
    "print(\"\\nAverage Account_Balance for each Account_Type:\")\n",
    "print(account_type_avg_balance)\n",
    "\n",
    "# Group the data by Branch and calculate:\n",
    "# 1. The total number of transactions per branch\n",
    "branch_transactions_count = df.groupby('Branch')['Transaction_Amount'].count()\n",
    "print(\"\\nTotal number of transactions per Branch:\")\n",
    "print(branch_transactions_count)\n",
    "\n",
    "# 2. The average transaction amount per branch\n",
    "branch_avg_transaction = df.groupby('Branch')['Transaction_Amount'].mean()\n",
    "print(\"\\nAverage Transaction_Amount per Branch:\")\n",
    "print(branch_avg_transaction)\n"
   ]
  },
  {
   "cell_type": "code",
   "execution_count": null,
   "id": "9a92428c-c465-4ea3-a62e-e3f78f7d9c65",
   "metadata": {},
   "outputs": [],
   "source": []
  }
 ],
 "metadata": {
  "kernelspec": {
   "display_name": "Python 3 (ipykernel)",
   "language": "python",
   "name": "python3"
  },
  "language_info": {
   "codemirror_mode": {
    "name": "ipython",
    "version": 3
   },
   "file_extension": ".py",
   "mimetype": "text/x-python",
   "name": "python",
   "nbconvert_exporter": "python",
   "pygments_lexer": "ipython3",
   "version": "3.12.7"
  }
 },
 "nbformat": 4,
 "nbformat_minor": 5
}
